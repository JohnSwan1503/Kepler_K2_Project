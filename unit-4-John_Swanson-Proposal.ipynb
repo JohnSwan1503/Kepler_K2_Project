{
 "cells": [
  {
   "cell_type": "markdown",
   "metadata": {},
   "source": [
    "# Searching for Planets with Data Science\n",
    "#### This project intends to predict with confidence whether or not a target star in the [**Kepler K2 \"Second Light\" Survey**](https://en.wikipedia.org/wiki/Kepler_space_telescope#Second_Light_(K2)) has an associated exoplanetary system. \n",
    "\n",
    "#### As a bonus we can explore the \"Inspirational Questions\" proposed by NASA:\n",
    "\n",
    "> - *How often are exoplanets confirmed in the existing literature disconfirmed by measurements from Kepler? How about the other way round?*\n",
    "> - *What general characteristics about exoplanets (that we can find) can you derive from this dataset?*\n",
    "> - *What exoplanets get assigned names in the literature? What is the distribution of confidence scores?*\n",
    "\n",
    "<hr style=\"border:.5px solid lightgrey\"> </hr>\n",
    "\n",
    "### Goals & Success Metrics\n",
    "This is the ultimate needle-in-a-haystack problem with many risks and limitations that we will elaborate on below. Thus the primary goal is find a method or combination of methods to cluster and predictively model whether the target Kepler Object of Interest *(KOI)* is a positive candidate. The open-source community has yet to find a methodology that outperforms arbitrarily assigning \"FALSE POSITIVE\" all KOIs. To achieve this would be exemplary, however we hope to find important pieces that move the open source community closer to developing a method that can achieve this.\n",
    "\n",
    "<hr style=\"border:.5px solid lightgrey\"> </hr>\n",
    "\n",
    "### Risks & Limitations\n",
    "***Data Imbalance***: In its 9 1/2 years of operation (2009 to 2018), The Kepler Space Telescope observed 500,000 stars and has confirmed the existence of 2,662 planets. The telescope is designed to to detect exoplanets by way of the *Transit Method* which requires the planetary system to be oriented such that the planet passes between the telescope and the host star during the period of observation. While the observations and predictions made by astronomers and astrophysicists seem to suggest by now that planets are very common in the universe, this particular orientation is relatively rare. Thus, before looking at the data directly, we can assume the dataset to have extremely unequal class distribution. A model that predicts the majority class across all input observational data of the Kepler Space Telescope Mission would produce a positive prediction rate of \\~99.5% (\\~99.1% accuracy over the *Campaign 3 Test Data Set*). To work around this we have a few tools to our disposal:\n",
    "1. Design a cost function &mdash; e.g. modifying a *Support Vector Machine* &mdash; that penalizes wrong classifications of the rare class (transitory planet observed = 1) by a similar ratio of the class populations. \n",
    "2. Under-sampling the training set.\n",
    "3. Over-sampling the training set by means of repition or *Synthetic Minority Over-sampling TEchnique (SMOTE)*\n",
    "4. Cluster the majority class into **n** unique groups of varying size where **n** = The Minority Class Population. Then an unmodified two-group classification model may be trained on the minority class and the medoids of each cluster. \n",
    "5. Evaluating *precision, recall,* or *F1 score* as opposed to only looking at prediction accuracy. \n",
    "\n",
    "The above list is not exhaustive, nor is it exclusive. However, it is a solid starting point for tackling the data imbalance inherent in observing exoplanets.\n",
    "\n",
    "<hr style=\"border:.5px solid lightgrey\"> </hr>\n",
    "\n",
    "### Data Sources\n",
    "[***Target Pixel Data***](https://archive.stsci.edu/missions-and-data/k2/k2-bulk-downloads#tp): Calibrated flux measurements for the individual pixels of each target star. &mdash; [*ReadMe*](.\\K2\\K2_TPF\\K2_TPF.ipynb)<font color=lightgrey> *Mikulski Archive for Space Telescopes* </font>\n",
    "\n",
    "[***Light Curve Data***](https://archive.stsci.edu/missions-and-data/k2/k2-bulk-downloads#lc): Change in Flux over time across all targets and all campaigns of the K2 Mission. &mdash; [*ReadMe*](.\\K2\\K2_Lightcurve\\K2_Lightcurve.ipynb) <font color=lightgrey> *Mikulski Archive for Space Telescopes* </font>\n",
    "\n",
    "[***Objects of Interest Data***](https://exoplanetarchive.ipac.caltech.edu/cgi-bin/TblView/nph-tblView?app=ExoTbls&config=cumulative): List and descriptions of all Kepler Objects of Interest *(KOI)* &mdash; [*Dictionary*](https://exoplanetarchive.ipac.caltech.edu/docs/API_kepcandidate_columns.html) <font color=lightgrey> *NASA Exoplanetary Archive* </font>\n",
    "\n",
    "[***Candidates Table***](https://exoplanetarchive.ipac.caltech.edu/cgi-bin/TblView/nph-tblView?app=ExoTbls&config=k2candidates): List and descriptions of all Kepler Objects Candidates for an exoplanetary system &mdash; [*Dictionary*](https://exoplanetarchive.ipac.caltech.edu/docs/API_kepcandidate_columns.html) <font color=lightgrey> *NASA Exoplanetary Archive* </font>\n",
    "\n",
    "[***Training and Testing Data***](https://www.kaggle.com/keplersmachines/kepler-labelled-time-series-data): Cleaned and grouped data from K2 Campaign 3 &mdash; [*ReadMe*](https://github.com/winterdelta/KeplerAI#readme) <font color=lightgrey> *Mikulski Archive for Space Telescopes & WΔ* </font>"
   ]
  }
 ],
 "metadata": {
  "kernelspec": {
   "display_name": "Python 3",
   "language": "python",
   "name": "python3"
  },
  "language_info": {
   "codemirror_mode": {
    "name": "ipython",
    "version": 3
   },
   "file_extension": ".py",
   "mimetype": "text/x-python",
   "name": "python",
   "nbconvert_exporter": "python",
   "pygments_lexer": "ipython3",
   "version": "3.8.8"
  }
 },
 "nbformat": 4,
 "nbformat_minor": 4
}
